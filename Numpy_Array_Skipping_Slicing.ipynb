{
  "nbformat": 4,
  "nbformat_minor": 5,
  "metadata": {
    "kernelspec": {
      "display_name": "Python 3",
      "language": "python",
      "name": "python3"
    },
    "language_info": {
      "codemirror_mode": {
        "name": "ipython",
        "version": 3
      },
      "file_extension": ".py",
      "mimetype": "text/x-python",
      "name": "python",
      "nbconvert_exporter": "python",
      "pygments_lexer": "ipython3",
      "version": "3.8.3"
    },
    "colab": {
      "name": "Numpy_Array_Skipping_Slicing.ipynb",
      "provenance": [],
      "include_colab_link": true
    }
  },
  "cells": [
    {
      "cell_type": "markdown",
      "metadata": {
        "id": "view-in-github",
        "colab_type": "text"
      },
      "source": [
        "<a href=\"https://colab.research.google.com/github/shinchan75034/Techniques/blob/main/Numpy_Array_Skipping_Slicing.ipynb\" target=\"_parent\"><img src=\"https://colab.research.google.com/assets/colab-badge.svg\" alt=\"Open In Colab\"/></a>"
      ]
    },
    {
      "cell_type": "markdown",
      "metadata": {
        "id": "documentary-geneva"
      },
      "source": [
        "## Numpy array slicing by skipping\n",
        "`numpy` array slicing can get very confusing. There are so many different notations that can be used to do all sorts of tricks. With array slicing, that bag of tricks just never stop to confuse me. \n",
        "\n",
        "Have you see double colons `::` being used in `numpy` array slicing? When you see it, think of it as a way to select records in the array by skipping at certain intervals. Now you just need to know how it works. We will start with an array of 20 records, each with five elements."
      ],
      "id": "documentary-geneva"
    },
    {
      "cell_type": "code",
      "metadata": {
        "id": "precise-garage",
        "outputId": "6c86b63d-21ab-4ff1-c9e0-f2b45ac6be77"
      },
      "source": [
        "import numpy as np\n",
        "r = np.arange(100)\n",
        "r.resize((20,5))\n",
        "r"
      ],
      "id": "precise-garage",
      "execution_count": null,
      "outputs": [
        {
          "output_type": "execute_result",
          "data": {
            "text/plain": [
              "array([[ 0,  1,  2,  3,  4],\n",
              "       [ 5,  6,  7,  8,  9],\n",
              "       [10, 11, 12, 13, 14],\n",
              "       [15, 16, 17, 18, 19],\n",
              "       [20, 21, 22, 23, 24],\n",
              "       [25, 26, 27, 28, 29],\n",
              "       [30, 31, 32, 33, 34],\n",
              "       [35, 36, 37, 38, 39],\n",
              "       [40, 41, 42, 43, 44],\n",
              "       [45, 46, 47, 48, 49],\n",
              "       [50, 51, 52, 53, 54],\n",
              "       [55, 56, 57, 58, 59],\n",
              "       [60, 61, 62, 63, 64],\n",
              "       [65, 66, 67, 68, 69],\n",
              "       [70, 71, 72, 73, 74],\n",
              "       [75, 76, 77, 78, 79],\n",
              "       [80, 81, 82, 83, 84],\n",
              "       [85, 86, 87, 88, 89],\n",
              "       [90, 91, 92, 93, 94],\n",
              "       [95, 96, 97, 98, 99]])"
            ]
          },
          "metadata": {
            "tags": []
          },
          "execution_count": 1
        }
      ]
    },
    {
      "cell_type": "markdown",
      "metadata": {
        "id": "adequate-desktop"
      },
      "source": [
        "Take a look at what this does:"
      ],
      "id": "adequate-desktop"
    },
    {
      "cell_type": "code",
      "metadata": {
        "id": "express-granny",
        "outputId": "7b649131-b127-46cc-af4e-989b460b4302"
      },
      "source": [
        "r[1::2]"
      ],
      "id": "express-granny",
      "execution_count": null,
      "outputs": [
        {
          "output_type": "execute_result",
          "data": {
            "text/plain": [
              "array([[ 5,  6,  7,  8,  9],\n",
              "       [15, 16, 17, 18, 19],\n",
              "       [25, 26, 27, 28, 29],\n",
              "       [35, 36, 37, 38, 39],\n",
              "       [45, 46, 47, 48, 49],\n",
              "       [55, 56, 57, 58, 59],\n",
              "       [65, 66, 67, 68, 69],\n",
              "       [75, 76, 77, 78, 79],\n",
              "       [85, 86, 87, 88, 89],\n",
              "       [95, 96, 97, 98, 99]])"
            ]
          },
          "metadata": {
            "tags": []
          },
          "execution_count": 2
        }
      ]
    },
    {
      "cell_type": "markdown",
      "metadata": {
        "id": "daily-criminal"
      },
      "source": [
        "`1` indicates selecting for the second record (`numpy` index starts with 0), and `2` indicates skipping next record and select the following record. This pattern repeats until the end of the array.\n",
        "\n",
        "Let's try another one: "
      ],
      "id": "daily-criminal"
    },
    {
      "cell_type": "code",
      "metadata": {
        "id": "collected-elite",
        "outputId": "0facabcc-3233-4f13-e885-74b753dc854c"
      },
      "source": [
        "r[2::4]"
      ],
      "id": "collected-elite",
      "execution_count": null,
      "outputs": [
        {
          "output_type": "execute_result",
          "data": {
            "text/plain": [
              "array([[10, 11, 12, 13, 14],\n",
              "       [30, 31, 32, 33, 34],\n",
              "       [50, 51, 52, 53, 54],\n",
              "       [70, 71, 72, 73, 74],\n",
              "       [90, 91, 92, 93, 94]])"
            ]
          },
          "metadata": {
            "tags": []
          },
          "execution_count": 8
        }
      ]
    },
    {
      "cell_type": "markdown",
      "metadata": {
        "id": "oriented-excerpt"
      },
      "source": [
        "`2` indicates selecting the third record, and 4 indicates skipping next three records and select the following record. This repeats until the end of the array.\n",
        "\n",
        "Now let's see what this one is doing:"
      ],
      "id": "oriented-excerpt"
    },
    {
      "cell_type": "code",
      "metadata": {
        "id": "solid-namibia",
        "outputId": "714120b0-01b7-447e-fc26-1f659c74d86a"
      },
      "source": [
        "r[:, 1::3]"
      ],
      "id": "solid-namibia",
      "execution_count": null,
      "outputs": [
        {
          "output_type": "execute_result",
          "data": {
            "text/plain": [
              "array([[ 1,  4],\n",
              "       [ 6,  9],\n",
              "       [11, 14],\n",
              "       [16, 19],\n",
              "       [21, 24],\n",
              "       [26, 29],\n",
              "       [31, 34],\n",
              "       [36, 39],\n",
              "       [41, 44],\n",
              "       [46, 49],\n",
              "       [51, 54],\n",
              "       [56, 59],\n",
              "       [61, 64],\n",
              "       [66, 69],\n",
              "       [71, 74],\n",
              "       [76, 79],\n",
              "       [81, 84],\n",
              "       [86, 89],\n",
              "       [91, 94],\n",
              "       [96, 99]])"
            ]
          },
          "metadata": {
            "tags": []
          },
          "execution_count": 15
        }
      ]
    },
    {
      "cell_type": "markdown",
      "metadata": {
        "id": "convinced-vector"
      },
      "source": [
        "Single colon `:` indicates every row is selected. `1::3` indicates that from the second element in each record, skip next two elements and select the following element. This shows that you may use double colon `::` to select elements by skipping within a `numpy` record."
      ],
      "id": "convinced-vector"
    },
    {
      "cell_type": "code",
      "metadata": {
        "id": "periodic-tribune"
      },
      "source": [
        ""
      ],
      "id": "periodic-tribune",
      "execution_count": null,
      "outputs": []
    }
  ]
}